{
 "cells": [
  {
   "cell_type": "code",
   "execution_count": 1,
   "metadata": {},
   "outputs": [],
   "source": [
    "from google.cloud import storage,vision\n",
    "import pandas as pd\n",
    "import validators"
   ]
  },
  {
   "cell_type": "code",
   "execution_count": 2,
   "metadata": {},
   "outputs": [],
   "source": [
    "import os\n",
    "os.environ[\"GOOGLE_APPLICATION_CREDENTIALS\"] = \"credintial/GCP_CRED.json\""
   ]
  },
  {
   "cell_type": "code",
   "execution_count": 3,
   "metadata": {},
   "outputs": [],
   "source": [
    "def objects_detection(path):\n",
    "    n=[]\n",
    "    \n",
    "    if validators.url(path):\n",
    "        client = vision.ImageAnnotatorClient()\n",
    "        image = vision.Image()\n",
    "        image.source.image_uri = path\n",
    "    else:\n",
    "        try:\n",
    "            client = vision.ImageAnnotatorClient()\n",
    "            with open(path, \"rb\") as image_file:\n",
    "                content = image_file.read()\n",
    "            image = vision.Image(content=content)\n",
    "        except:\n",
    "            return 'Invalid Url'\n",
    "\n",
    "    objects = client.object_localization(image=image).localized_object_annotations\n",
    "    for obj in objects:\n",
    "        naam=obj.name\n",
    "        n.append(naam)\n",
    "    return n\n",
    "\n",
    "    "
   ]
  },
  {
   "cell_type": "code",
   "execution_count": 6,
   "metadata": {},
   "outputs": [
    {
     "data": {
      "text/plain": [
       "['Banana', 'Orange', 'Orange']"
      ]
     },
     "execution_count": 6,
     "metadata": {},
     "output_type": "execute_result"
    }
   ],
   "source": [
    "objects_detection(\"https://t4.ftcdn.net/jpg/02/09/48/93/360_F_209489330_JaX2cOjv0iIwjyPA29Yf7Cb52hq78K9H.jpg\")"
   ]
  },
  {
   "cell_type": "code",
   "execution_count": 7,
   "metadata": {},
   "outputs": [],
   "source": [
    "storage_client = storage.Client()\n",
    "bucket = storage_client.get_bucket('image-website-bucket')\n",
    "blob = bucket.blob('image-data/DATA2.csv')\n",
    "path = \"gs://image-website-bucket/image-data/DATA2.csv\"\n",
    "df = pd.read_csv(path)"
   ]
  },
  {
   "cell_type": "code",
   "execution_count": 8,
   "metadata": {},
   "outputs": [
    {
     "ename": "NameError",
     "evalue": "name 'Cname' is not defined",
     "output_type": "error",
     "traceback": [
      "\u001b[1;31m---------------------------------------------------------------------------\u001b[0m",
      "\u001b[1;31mNameError\u001b[0m                                 Traceback (most recent call last)",
      "Cell \u001b[1;32mIn[8], line 1\u001b[0m\n\u001b[1;32m----> 1\u001b[0m Cname\u001b[38;5;241m=\u001b[39m [item\u001b[38;5;241m.\u001b[39mlower() \u001b[38;5;28;01mfor\u001b[39;00m item \u001b[38;5;129;01min\u001b[39;00m \u001b[43mCname\u001b[49m]\n\u001b[0;32m      2\u001b[0m \u001b[38;5;66;03m# print(Cname)\u001b[39;00m\n\u001b[0;32m      3\u001b[0m final_df \u001b[38;5;241m=\u001b[39m df[df[\u001b[38;5;124m'\u001b[39m\u001b[38;5;124mPname\u001b[39m\u001b[38;5;124m'\u001b[39m]\u001b[38;5;241m.\u001b[39misin(Cname)]\n",
      "\u001b[1;31mNameError\u001b[0m: name 'Cname' is not defined"
     ]
    }
   ],
   "source": [
    "Cname= [item.lower() for item in Cname]\n",
    "# print(Cname)\n",
    "final_df = df[df['Pname'].isin(Cname)]\n",
    "# final_df.head()\n",
    "about_prd= final_df['About']\n"
   ]
  },
  {
   "cell_type": "code",
   "execution_count": 4,
   "metadata": {},
   "outputs": [],
   "source": [
    "def product_description(img):\n",
    "    Cname=objects_detection(img)\n",
    "    if Cname==\"Invalid Url\":\n",
    "        return Cname\n",
    "    else:\n",
    "        Cname= [item.lower() for item in Cname]\n",
    "        # print(Cname)\n",
    "        final_df = df[df['Pname'].isin(Cname)]\n",
    "        # final_df.head()\n",
    "        about_prd= final_df['About']\n",
    "            \n",
    "        return list(about_prd)\n"
   ]
  },
  {
   "cell_type": "code",
   "execution_count": 64,
   "metadata": {},
   "outputs": [
    {
     "name": "stdout",
     "output_type": "stream",
     "text": [
      "['Curved, yellow fruit with a creamy texture and sweet taste, packed with essential nutrients and energy.', 'The orange originated in a region encompassing Southern China, Northeast India, and Myanmar;']\n"
     ]
    }
   ],
   "source": [
    "l=product_description(\"https://t4.ftcdn.net/jpg/02/09/48/93/360_F_209489330_JaX2cOjv0iIwjyPA29Yf7Cb52hq78K9H.jpg\")\n",
    "print(l)"
   ]
  },
  {
   "cell_type": "code",
   "execution_count": 5,
   "metadata": {},
   "outputs": [],
   "source": [
    "def detect_web(uri):\n",
    "    \"\"\"Detects web annotations given an image.\"\"\"\n",
    "    url=[]\n",
    "    client = vision.ImageAnnotatorClient()\n",
    "    image = vision.Image()\n",
    "    image.source.image_uri = uri\n",
    "\n",
    "    response = client.web_detection(image=image)\n",
    "    annotations = response.web_detection\n",
    "\n",
    "    for image in annotations.visually_similar_images:\n",
    "        url.append(image.url)\n",
    "    return url\n",
    "\n"
   ]
  },
  {
   "cell_type": "code",
   "execution_count": 6,
   "metadata": {},
   "outputs": [],
   "source": [
    "def upload_to_csv(names, urls, filename):\n",
    "    try:\n",
    "        existing_df = pd.read_csv(filename)\n",
    "    except FileNotFoundError:\n",
    "        existing_df = pd.DataFrame({'Pname': [], 'URL': []})\n",
    "\n",
    "    min_length = min(len(names), len(urls))\n",
    "    new_data = {'Pname': names[:min_length], 'URL': urls[:min_length]}\n",
    "    new_df = pd.DataFrame(new_data)\n",
    "\n",
    "    combined_df = pd.concat([existing_df, new_df], ignore_index=True)\n",
    "    combined_df.to_csv(filename, index=False)"
   ]
  },
  {
   "cell_type": "code",
   "execution_count": 39,
   "metadata": {},
   "outputs": [],
   "source": []
  },
  {
   "cell_type": "code",
   "execution_count": 42,
   "metadata": {},
   "outputs": [],
   "source": [
    "def label_detection(path):\n",
    "    labels = []\n",
    "    \n",
    "    if validators.url(path):\n",
    "        client = vision.ImageAnnotatorClient()\n",
    "        image = vision.Image()\n",
    "        image.source.image_uri = path\n",
    "    else:\n",
    "        try:\n",
    "            client = vision.ImageAnnotatorClient()\n",
    "            with open(path, \"rb\") as image_file:\n",
    "                content = image_file.read()\n",
    "            image = vision.Image(content=content)\n",
    "        except:\n",
    "            return 'Invalid Url'\n",
    "\n",
    "    response = client.label_detection(image=image)\n",
    "    for label in response.label_annotations:\n",
    "        labels.append(label.description)\n",
    "    return labels\n",
    "\n",
    "\n",
    "def logo_detection(path):\n",
    "    logos = []\n",
    "    \n",
    "    if validators.url(path):\n",
    "        client = vision.ImageAnnotatorClient()\n",
    "        image = vision.Image()\n",
    "        image.source.image_uri = path\n",
    "    else:\n",
    "        try:\n",
    "            client = vision.ImageAnnotatorClient()\n",
    "            with open(path, \"rb\") as image_file:\n",
    "                content = image_file.read()\n",
    "            image = vision.Image(content=content)\n",
    "        except:\n",
    "            return 'Invalid Url'\n",
    "\n",
    "    response = client.logo_detection(image=image)\n",
    "    for logo in response.logo_annotations:\n",
    "        logos.append(logo.description)\n",
    "    return logos\n"
   ]
  },
  {
   "cell_type": "code",
   "execution_count": 23,
   "metadata": {},
   "outputs": [],
   "source": [
    "path=\"https://teaklab.com/wp-content/uploads/2019/08/5adefd5eNa9b4ddfb.jpg\"\n",
    "got_url=detect_web(path)\n",
    "# n1=logo_detection(path)\n",
    "# n1=[item.lower() for item in n1]\n",
    "# n2=label_detection(path)\n",
    "# n2=[item.lower() for item in n2]\n",
    "obj_name=objects_detection(path)\n",
    "obj_small=[item.lower() for item in obj_name]\n",
    "# new_list=n1+n2+obj_small\n",
    "filename=\"DATA4.csv\"\n",
    "upload_to_csv(obj_small,got_url,filename)\n"
   ]
  },
  {
   "cell_type": "code",
   "execution_count": null,
   "metadata": {},
   "outputs": [],
   "source": []
  }
 ],
 "metadata": {
  "kernelspec": {
   "display_name": "ve",
   "language": "python",
   "name": "python3"
  },
  "language_info": {
   "codemirror_mode": {
    "name": "ipython",
    "version": 3
   },
   "file_extension": ".py",
   "mimetype": "text/x-python",
   "name": "python",
   "nbconvert_exporter": "python",
   "pygments_lexer": "ipython3",
   "version": "3.12.4"
  }
 },
 "nbformat": 4,
 "nbformat_minor": 2
}
